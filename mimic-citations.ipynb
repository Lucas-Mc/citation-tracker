{
 "cells": [
  {
   "cell_type": "markdown",
   "metadata": {},
   "source": [
    "## 1.1. Search PubMed\n",
    "\n",
    "Search PubMed for papers\n",
    "\n",
    "https://www.ncbi.nlm.nih.gov/pubmed/\n",
    "\n",
    "https://www.ncbi.nlm.nih.gov/books/NBK25499/"
   ]
  },
  {
   "cell_type": "code",
   "execution_count": 22,
   "metadata": {},
   "outputs": [],
   "source": [
    "import lcp.reuse as reuse\n",
    "from Bio import Entrez\n",
    "import numpy as np"
   ]
  },
  {
   "cell_type": "code",
   "execution_count": null,
   "metadata": {
    "collapsed": true
   },
   "outputs": [],
   "source": [
    "search_strings = [\n",
    "    'mimic-ii OR mimic-iii',\n",
    "    '(mimic-ii OR mimic-iii) AND '\n",
    "]"
   ]
  },
  {
   "cell_type": "code",
   "execution_count": 16,
   "metadata": {},
   "outputs": [],
   "source": [
    "search_results = {}\n",
    "# Dictionary of {k-v} = {paper ids - titles} for the set of IDs found in all search strings\n",
    "paper_titles = []\n",
    "for ss in search_strings:\n",
    "    results = reuse.search(ss, entrez_email)\n",
    "    search_results[ss] = results\n",
    "    paper_titles += results['IdList']"
   ]
  },
  {
   "cell_type": "code",
   "execution_count": 18,
   "metadata": {},
   "outputs": [
    {
     "data": {
      "text/plain": [
       "140"
      ]
     },
     "execution_count": 18,
     "metadata": {},
     "output_type": "execute_result"
    }
   ],
   "source": [
    "len(paper_titles)"
   ]
  },
  {
   "cell_type": "code",
   "execution_count": 19,
   "metadata": {},
   "outputs": [
    {
     "data": {
      "text/plain": [
       "37"
      ]
     },
     "execution_count": 19,
     "metadata": {},
     "output_type": "execute_result"
    }
   ],
   "source": [
    "len(set(paper_titles))"
   ]
  },
  {
   "cell_type": "code",
   "execution_count": 27,
   "metadata": {},
   "outputs": [
    {
     "data": {
      "text/plain": [
       "array([14686455, 14686455, 14686455, 14686455, 14686455, 14686455,\n",
       "       14686455, 21096039, 21096039, 21096039, 21096039, 21096039,\n",
       "       21096039, 21096040, 21096040, 21096040, 21096040, 21096040,\n",
       "       21283005, 21283005, 21283005, 21283005, 21283005, 21283005,\n",
       "       21283005, 21899833, 21899833, 22256274, 22256274, 22256274,\n",
       "       22256274, 22256274, 22256274, 22256274, 22561944, 22561944,\n",
       "       22561944, 22561944, 22561944, 23249446, 23302652, 23302652,\n",
       "       23302652, 23302652, 23302652, 23302652, 23302652, 23367074,\n",
       "       23367074, 23367074, 23367074, 23367074, 23367074, 23766887,\n",
       "       23766887, 23766887, 23766887, 23766887, 24736693, 24736693,\n",
       "       24736693, 24736693, 24736693, 24736693, 24736693, 24786209,\n",
       "       24786209, 25466337, 25466337, 25700665, 25700665, 25969432,\n",
       "       25980124, 25980124, 25980124, 25980124, 25980124, 25980124,\n",
       "       25980124, 26227625, 26275389, 26345130, 26345130, 26392184,\n",
       "       26392184, 26543729, 26543729, 26543729, 26543729, 26543729,\n",
       "       26543729, 26731286, 26731286, 26731286, 26731286, 26736429,\n",
       "       26736429, 26736429, 26736429, 26736429, 26736429, 26736668,\n",
       "       26737617, 26812874, 26812874, 26812874, 26812874, 26812874,\n",
       "       26812874, 26812874, 26846781, 26846781, 26846781, 26846781,\n",
       "       26846781, 26846781, 26958216, 26958216, 26958216, 26958216,\n",
       "       26958216, 26958273, 27170860, 27170860, 27170860, 27219127,\n",
       "       27219127, 27219127, 27219127, 27219127, 27219127, 27738664,\n",
       "       28268442, 28460210, 28630952, 28630952, 28815150, 28815150,\n",
       "       28815150, 28815150])"
      ]
     },
     "execution_count": 27,
     "metadata": {},
     "output_type": "execute_result"
    }
   ],
   "source": [
    "a = np.array(paper_titles).astype('int')\n",
    "a.sort()\n",
    "a"
   ]
  },
  {
   "cell_type": "code",
   "execution_count": 15,
   "metadata": {},
   "outputs": [
    {
     "data": {
      "text/plain": [
       "{'14686455': 'MIMIC II: a massive temporal ICU patient database to support research in intelligent patient monitoring.',\n",
       " '21096039': 'Heuristics to determine ventilation times of ICU patients from the MIMIC-II database.',\n",
       " '21096040': 'Evaluation of monitoring cardiac output by long time interval analysis of a radial arterial blood pressure waveform using the MIMIC II database.',\n",
       " '21283005': 'Multiparameter Intelligent Monitoring in Intensive Care II: a public-access intensive care unit database.',\n",
       " '21899833': 'Prediction of acute hypotensive episodes by means of neural network multi-models.',\n",
       " '22256274': 'Open-access MIMIC-II database for intensive care research.',\n",
       " '22561944': 'Standardizing clinical laboratory data for secondary use.',\n",
       " '23249446': 'Lower short- and long-term mortality associated with overweight and obesity in a large cohort study of adult intensive care unit patients.',\n",
       " '23302652': 'Accessing the public MIMIC-II intensive care relational database for clinical research.',\n",
       " '23367074': 'Prediction of extubation failure for neonates with respiratory distress syndrome using the MIMIC-II clinical database.',\n",
       " '23766887': 'Collective Experience: A Database-Fuelled, Inter-Disciplinary Team-Led Learning System.',\n",
       " '24736693': 'Predictive value of ionized calcium in critically ill patients: an analysis of a large clinical database MIMIC II.',\n",
       " '24786209': 'N-gram support vector machines for scalable procedure and diagnosis classification, with applications to clinical free text data from the intensive care unit.',\n",
       " '25466337': 'Mortality prediction in intensive care units with the Super ICU Learner Algorithm (SICULA): a population-based study.',\n",
       " '25700665': 'Efficient and sparse feature selection for biomedical text classification via the elastic net: Application to ICU risk stratification from nursing notes.',\n",
       " '25969432': 'Customization of a Severity of Illness Score Using Local Electronic Medical Record Data.',\n",
       " '25980124': '[Clinical data mining by exploring public MIMIC-II intensive care database].',\n",
       " '26227625': 'Using information theory to identify redundancy in common laboratory tests in the intensive care unit.',\n",
       " '26275389': 'Performance comparison of multi-label learning algorithms on clinical data for chronic diseases.',\n",
       " '26345130': 'Fuzzy Modeling to Predict Severely Depressed Left Ventricular Ejection Fraction following Admission to the Intensive Care Unit Using Clinical Physiology.',\n",
       " '26392184': 'Adaptive online monitoring for ICU patients by combining just-in-time learning and principal component analysis.',\n",
       " '26543729': 'Calcium supplementation improves clinical outcome in intensive care unit patients: a propensity score matched analysis of a large clinical database MIMIC-II.',\n",
       " '26731286': 'Scalable Predictive Analysis in Critically Ill Patients Using a Visual Open Data Analysis Platform.',\n",
       " '26736429': 'Predicting hyperlactatemia in the MIMIC II database.',\n",
       " '26736668': 'Primary study for detection of arterial blood pressure waveform components.',\n",
       " '26737617': 'Large-scale physiological waveform retrieval via locality-sensitive hashing.',\n",
       " '26812874': 'Prognostic value of red blood cell distribution width in acute pancreatitis patients admitted to intensive care units: an analysis of a publicly accessible clinical database MIMIC II.',\n",
       " '26846781': 'A web-based data visualization tool for the MIMIC-II database.',\n",
       " '26958216': 'Reproducing a Prospective Clinical Study as a Computational Retrospective Study in MIMIC-II.',\n",
       " '26958273': 'A Study of Neural Word Embeddings for Named Entity Recognition in Clinical Text.',\n",
       " '27170860': 'icuARM-An ICU Clinical Decision Support System Using Association Rule Mining.',\n",
       " '27219127': 'MIMIC-III, a freely accessible critical care database.',\n",
       " '27738664': 'Assessing the Comorbidity Gap between Clinical Studies and Prevalence in Elderly Patient Populations.',\n",
       " '28268442': 'Using demographic and time series physiological features to classify sepsis in the intensive care unit.',\n",
       " '28460210': 'Hypoxic hepatitis - its biochemical profile, causes and risk factors of mortality in critically-ill patients: A cohort study of 565 patients.',\n",
       " '28630952': \"Estimating Patient's Health State Using Latent Structure Inferred from Clinical Time Series and Text.\",\n",
       " '28815150': 'Identifying Psychiatric Comorbidities for Obstructive Sleep Apnea in the Biomedical Literature and Electronic Health Record.'}"
      ]
     },
     "execution_count": 15,
     "metadata": {},
     "output_type": "execute_result"
    }
   ],
   "source": [
    "paper_titles"
   ]
  },
  {
   "cell_type": "code",
   "execution_count": 5,
   "metadata": {},
   "outputs": [
    {
     "name": "stdout",
     "output_type": "stream",
     "text": [
      "mimic-iii OR mimic-ii:\n",
      " - Count: 123\n",
      "- Paper Id List:\n",
      "['26846781', '27219127', '26958216', '25980124', '23302652', '22256274', '21096039', '23367074', '26543729', '26736429', '26812874', '24736693', '21096040', '28815150', '14686455', '22561944', '26731286', '23766887', '21899833', '21283005']\n",
      "- Paper Titles:\n",
      "['A web-based data visualization tool for the MIMIC-II database.', 'MIMIC-III, a freely accessible critical care database.', 'Reproducing a Prospective Clinical Study as a Computational Retrospective Study in MIMIC-II.', '[Clinical data mining by exploring public MIMIC-II intensive care database].', 'Accessing the public MIMIC-II intensive care relational database for clinical research.', 'Open-access MIMIC-II database for intensive care research.', 'Heuristics to determine ventilation times of ICU patients from the MIMIC-II database.', 'Prediction of extubation failure for neonates with respiratory distress syndrome using the MIMIC-II clinical database.', 'Calcium supplementation improves clinical outcome in intensive care unit patients: a propensity score matched analysis of a large clinical database MIMIC-II.', 'Predicting hyperlactatemia in the MIMIC II database.', 'Prognostic value of red blood cell distribution width in acute pancreatitis patients admitted to intensive care units: an analysis of a publicly accessible clinical database MIMIC II.', 'Predictive value of ionized calcium in critically ill patients: an analysis of a large clinical database MIMIC II.', 'Evaluation of monitoring cardiac output by long time interval analysis of a radial arterial blood pressure waveform using the MIMIC II database.', 'Identifying Psychiatric Comorbidities for Obstructive Sleep Apnea in the Biomedical Literature and Electronic Health Record.', 'MIMIC II: a massive temporal ICU patient database to support research in intelligent patient monitoring.', 'Standardizing clinical laboratory data for secondary use.', 'Scalable Predictive Analysis in Critically Ill Patients Using a Visual Open Data Analysis Platform.', 'Collective Experience: A Database-Fuelled, Inter-Disciplinary Team-Led Learning System.', 'Prediction of acute hypotensive episodes by means of neural network multi-models.', 'Multiparameter Intelligent Monitoring in Intensive Care II: a public-access intensive care unit database.']\n",
      "\n",
      "\n",
      "(mimic-iii OR mimic-ii) AND (database OR clinical OR waveform OR icu):\n",
      " - Count: 119\n",
      "- Paper Id List:\n",
      "['26812874', '27219127', '25466337', '21096039', '24736693', '26846781', '21283005', '23302652', '25980124', '22256274', '26736429', '26543729', '14686455', '24786209', '23367074', '27170860', '21096040', '26392184', '26345130', '25700665']\n",
      "- Paper Titles:\n",
      "['Prognostic value of red blood cell distribution width in acute pancreatitis patients admitted to intensive care units: an analysis of a publicly accessible clinical database MIMIC II.', 'MIMIC-III, a freely accessible critical care database.', 'Mortality prediction in intensive care units with the Super ICU Learner Algorithm (SICULA): a population-based study.', 'Heuristics to determine ventilation times of ICU patients from the MIMIC-II database.', 'Predictive value of ionized calcium in critically ill patients: an analysis of a large clinical database MIMIC II.', 'A web-based data visualization tool for the MIMIC-II database.', 'Multiparameter Intelligent Monitoring in Intensive Care II: a public-access intensive care unit database.', 'Accessing the public MIMIC-II intensive care relational database for clinical research.', '[Clinical data mining by exploring public MIMIC-II intensive care database].', 'Open-access MIMIC-II database for intensive care research.', 'Predicting hyperlactatemia in the MIMIC II database.', 'Calcium supplementation improves clinical outcome in intensive care unit patients: a propensity score matched analysis of a large clinical database MIMIC-II.', 'MIMIC II: a massive temporal ICU patient database to support research in intelligent patient monitoring.', 'N-gram support vector machines for scalable procedure and diagnosis classification, with applications to clinical free text data from the intensive care unit.', 'Prediction of extubation failure for neonates with respiratory distress syndrome using the MIMIC-II clinical database.', 'icuARM-An ICU Clinical Decision Support System Using Association Rule Mining.', 'Evaluation of monitoring cardiac output by long time interval analysis of a radial arterial blood pressure waveform using the MIMIC II database.', 'Adaptive online monitoring for ICU patients by combining just-in-time learning and principal component analysis.', 'Fuzzy Modeling to Predict Severely Depressed Left Ventricular Ejection Fraction following Admission to the Intensive Care Unit Using Clinical Physiology.', 'Efficient and sparse feature selection for biomedical text classification via the elastic net: Application to ICU risk stratification from nursing notes.']\n",
      "\n",
      "\n"
     ]
    }
   ],
   "source": [
    "for ss in search_strings[:2]:\n",
    "    results = search_results[ss]\n",
    "    count = results['Count']\n",
    "    id_list = results['IdList']\n",
    "    titles = \n",
    "    \n",
    "    print('%s:\\n - Count: %s' % (ss, search_results[ss]['Count']))\n",
    "    print('- Paper Id List:')\n",
    "    print(id_list)\n",
    "    print('- Paper Titles:')\n",
    "    print(titles)\n",
    "    print('\\n')"
   ]
  },
  {
   "cell_type": "code",
   "execution_count": 7,
   "metadata": {},
   "outputs": [
    {
     "data": {
      "text/plain": [
       "[(1, 4, 7), (2, 5, 8), (3, 6, 9)]"
      ]
     },
     "execution_count": 7,
     "metadata": {},
     "output_type": "execute_result"
    }
   ],
   "source": [
    "zip([1,2,3], [4,5,6], [7,8,9])"
   ]
  },
  {
   "cell_type": "markdown",
   "metadata": {},
   "source": [
    "## 1.2 Searching Google Scholar\n",
    "\n",
    "Query: `(\"mimic ii\" OR \"mimic iii\") AND (\"database\" OR \"clinical\" OR \"waveform\" OR ICU)`\n",
    "\n",
    "https://scholar.google.com/scholar?q=%28%22mimic+ii%22+OR+%22mimic+iii%22%29+AND+%28%22database%22+OR+%22clinical%22%29&btnG=&hl=en&as_sdt=1%2C22&as_vis=1\n",
    "\n",
    "https://scholar.google.com/scholar/help.html"
   ]
  },
  {
   "cell_type": "code",
   "execution_count": null,
   "metadata": {
    "collapsed": true
   },
   "outputs": [],
   "source": [
    "#import scholarly"
   ]
  },
  {
   "cell_type": "code",
   "execution_count": 20,
   "metadata": {},
   "outputs": [
    {
     "name": "stdout",
     "output_type": "stream",
     "text": [
      "{'_filled': False,\n",
      " 'affiliation': 'Postdoctoral Scholar, University of California, Berkeley',\n",
      " 'citedby': 147,\n",
      " 'email': '@berkeley.edu',\n",
      " 'id': '4bahYMkAAAAJ',\n",
      " 'interests': ['3D Shape',\n",
      "               'Shape from Texture',\n",
      "               'Shape from Shading',\n",
      "               'Naive Physics',\n",
      "               'Haptics'],\n",
      " 'name': 'Steven A. Cholewiak',\n",
      " 'url_picture': '/citations?view_op=view_photo&user=4bahYMkAAAAJ&citpid=2'}\n"
     ]
    }
   ],
   "source": [
    "print(next(scholarly.search_author('Steven A. Cholewiak')))"
   ]
  },
  {
   "cell_type": "code",
   "execution_count": null,
   "metadata": {
    "collapsed": true
   },
   "outputs": [],
   "source": []
  }
 ],
 "metadata": {
  "kernelspec": {
   "display_name": "Python 2",
   "language": "python",
   "name": "python2"
  },
  "language_info": {
   "codemirror_mode": {
    "name": "ipython",
    "version": 2
   },
   "file_extension": ".py",
   "mimetype": "text/x-python",
   "name": "python",
   "nbconvert_exporter": "python",
   "pygments_lexer": "ipython2",
   "version": "2.7.12"
  }
 },
 "nbformat": 4,
 "nbformat_minor": 2
}
