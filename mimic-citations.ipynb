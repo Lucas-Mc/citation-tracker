{
 "cells": [
  {
   "cell_type": "markdown",
   "metadata": {},
   "source": [
    "## 1.1. Search PubMed\n",
    "\n",
    "Search PubMed for papers\n",
    "\n",
    "https://www.ncbi.nlm.nih.gov/pubmed/\n",
    "\n",
    "https://www.ncbi.nlm.nih.gov/books/NBK25499/"
   ]
  },
  {
   "cell_type": "code",
   "execution_count": 1,
   "metadata": {},
   "outputs": [],
   "source": [
    "import lcp.reuse as reuse\n",
    "from Bio import Entrez\n",
    "import numpy as np"
   ]
  },
  {
   "cell_type": "markdown",
   "metadata": {},
   "source": [
    "### Trying to refine search query\n",
    "\n",
    "ie. Searching the most general term: `mimic-ii OR mimic-iii`, gives this false positive: https://www.ncbi.nlm.nih.gov/pubmed/12403307"
   ]
  },
  {
   "cell_type": "code",
   "execution_count": 4,
   "metadata": {
    "collapsed": true
   },
   "outputs": [],
   "source": [
    "entrez_email = 'mimic-support@physionet.org'\n",
    "\n",
    "\n",
    "search_strings = [\n",
    "    'mimic-ii OR mimic-iii',\n",
    "    '(mimic-ii OR mimic-iii) AND (database OR clinical OR waveform OR icu)',\n",
    "    '(mimic-ii OR mimic-iii) AND (database OR clinical OR waveform)',\n",
    "    '(mimic-ii OR mimic-iii) AND (database OR clinical)',\n",
    "    '(mimic-ii OR mimic-iii) AND (database)',\n",
    "    '(mimic-ii OR mimic-iii) AND (clinical)',\n",
    "]"
   ]
  },
  {
   "cell_type": "code",
   "execution_count": 8,
   "metadata": {},
   "outputs": [],
   "source": [
    "search_results = {}\n",
    "# Dictionary of {k-v} = {paper ids - titles} for the set of IDs found in all search strings\n",
    "paper_titles = []\n",
    "for ss in search_strings:\n",
    "    results = reuse.search(ss, entrez_email)\n",
    "    search_results[ss] = results\n",
    "    paper_titles += results['IdList']\n",
    "\n",
    "paper_titles = set(paper_titles)\n",
    "paper_titles = dict(zip(paper_titles, [reuse.get_title(t, entrez_email) for t in paper_titles]))"
   ]
  },
  {
   "cell_type": "code",
   "execution_count": null,
   "metadata": {},
   "outputs": [],
   "source": [
    "for ss in search_strings:\n",
    "    results = search_results[ss]\n",
    "    count = results['Count']\n",
    "    id_list = results['IdList']\n",
    "    titles = \n",
    "    \n",
    "    print('%s:\\n - Count: %s' % (ss, search_results[ss]['Count']))\n",
    "    print('- Paper Id List:')\n",
    "    print(id_list)\n",
    "    print('- Paper Titles:')\n",
    "    print(titles)\n",
    "    print('\\n')"
   ]
  },
  {
   "cell_type": "code",
   "execution_count": null,
   "metadata": {},
   "outputs": [],
   "source": [
    "zip([1,2,3], [4,5,6], [7,8,9])"
   ]
  },
  {
   "cell_type": "markdown",
   "metadata": {},
   "source": [
    "## 1.2 Searching Google Scholar\n",
    "\n",
    "Query: `(\"mimic ii\" OR \"mimic iii\") AND (\"database\" OR \"clinical\" OR \"waveform\" OR ICU)`\n",
    "\n",
    "https://scholar.google.com/scholar?q=%28%22mimic+ii%22+OR+%22mimic+iii%22%29+AND+%28%22database%22+OR+%22clinical%22%29&btnG=&hl=en&as_sdt=1%2C22&as_vis=1\n",
    "\n",
    "https://scholar.google.com/scholar/help.html"
   ]
  },
  {
   "cell_type": "code",
   "execution_count": null,
   "metadata": {
    "collapsed": true
   },
   "outputs": [],
   "source": [
    "#import scholarly"
   ]
  },
  {
   "cell_type": "code",
   "execution_count": null,
   "metadata": {},
   "outputs": [],
   "source": [
    "print(next(scholarly.search_author('Steven A. Cholewiak')))"
   ]
  },
  {
   "cell_type": "code",
   "execution_count": null,
   "metadata": {
    "collapsed": true
   },
   "outputs": [],
   "source": []
  }
 ],
 "metadata": {
  "kernelspec": {
   "display_name": "Python 2",
   "language": "python",
   "name": "python2"
  },
  "language_info": {
   "codemirror_mode": {
    "name": "ipython",
    "version": 2
   },
   "file_extension": ".py",
   "mimetype": "text/x-python",
   "name": "python",
   "nbconvert_exporter": "python",
   "pygments_lexer": "ipython2",
   "version": "2.7.12"
  }
 },
 "nbformat": 4,
 "nbformat_minor": 2
}
