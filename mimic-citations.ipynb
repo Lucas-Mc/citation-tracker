{
 "cells": [
  {
   "cell_type": "markdown",
   "metadata": {},
   "source": [
    "## 1.1. Search PubMed\n",
    "\n",
    "Search PubMed for papers\n",
    "\n",
    "https://www.ncbi.nlm.nih.gov/pubmed/\n",
    "\n",
    "https://www.ncbi.nlm.nih.gov/books/NBK25499/"
   ]
  },
  {
   "cell_type": "code",
   "execution_count": 15,
   "metadata": {},
   "outputs": [],
   "source": [
    "import lcp.reuse as reuse\n",
    "from Bio import Entrez\n",
    "from IPython.display import display"
   ]
  },
  {
   "cell_type": "markdown",
   "metadata": {},
   "source": [
    "### Trying to refine search query\n",
    "\n",
    "ie. Searching the most general term: `mimic-ii OR mimic-iii`, gives this false positive: https://www.ncbi.nlm.nih.gov/pubmed/12403307. \"*Synthesis of a new antischistosomally active and toxicologically tolerant C-12 monothione surrogate of the universal antihelmintic praziquantel*\"."
   ]
  },
  {
   "cell_type": "code",
   "execution_count": 21,
   "metadata": {
    "collapsed": true
   },
   "outputs": [],
   "source": [
    "entrez_email = 'mimic-support@physionet.org'\n",
    "\n",
    "search_strings = [\n",
    "    'mimic-ii OR mimic-iii',\n",
    "    '(mimic-ii OR mimic-iii) AND (database OR clinical OR waveform OR icu OR physionet)',\n",
    "    '(mimic-ii OR mimic-iii) AND (database OR clinical OR waveform OR icu)',\n",
    "    '(mimic-ii OR mimic-iii) AND (database OR clinical OR waveform)',\n",
    "    '(mimic-ii OR mimic-iii) AND (database OR clinical)',\n",
    "    '(mimic-ii OR mimic-iii) AND (database)',\n",
    "    '(mimic-ii OR mimic-iii) AND (clinical)',\n",
    "]"
   ]
  },
  {
   "cell_type": "code",
   "execution_count": 22,
   "metadata": {},
   "outputs": [],
   "source": [
    "search_results = reuse.search_list(search_strings, entrez_email)"
   ]
  },
  {
   "cell_type": "code",
   "execution_count": 23,
   "metadata": {},
   "outputs": [
    {
     "name": "stdout",
     "output_type": "stream",
     "text": [
      "mimic-ii OR mimic-iii:\n",
      " - Count: 123\n",
      "\n",
      "\n",
      "(mimic-ii OR mimic-iii) AND (database OR clinical OR waveform OR icu OR physionet):\n",
      " - Count: 120\n",
      "\n",
      "\n",
      "(mimic-ii OR mimic-iii) AND (database OR clinical OR waveform OR icu):\n",
      " - Count: 119\n",
      "\n",
      "\n",
      "(mimic-ii OR mimic-iii) AND (database OR clinical OR waveform):\n",
      " - Count: 116\n",
      "\n",
      "\n",
      "(mimic-ii OR mimic-iii) AND (database OR clinical):\n",
      " - Count: 116\n",
      "\n",
      "\n",
      "(mimic-ii OR mimic-iii) AND (database):\n",
      " - Count: 101\n",
      "\n",
      "\n",
      "(mimic-ii OR mimic-iii) AND (clinical):\n",
      " - Count: 76\n",
      "\n",
      "\n"
     ]
    }
   ],
   "source": [
    "for ss in search_strings:\n",
    "    search_result = search_results[ss]\n",
    "    print('%s:\\n - Count: %s' % (search_result.search_string, search_result.count))\n",
    "    print('\\n')"
   ]
  },
  {
   "cell_type": "markdown",
   "metadata": {},
   "source": [
    "### Inspecting Differences"
   ]
  },
  {
   "cell_type": "code",
   "execution_count": 18,
   "metadata": {
    "collapsed": true
   },
   "outputs": [],
   "source": [
    "def showdiff(results_a, results_b):\n",
    "    \n",
    "    print('Query A: '+results_a.search_string+', '+results_a.count+'results')\n",
    "    print('Query B: '+results_b.search_string+', '+results_b.count+'results')\n",
    "    print('(A - B):')\n",
    "    display(set(results_a.paper_titles) - set(results_b.paper_titles))\n",
    "    print('(B - A):')\n",
    "    display(set(results_b.paper_titles) - set(results_a.paper_titles))\n",
    "    \n",
    "    print('\\n')\n",
    "    \n",
    "    return"
   ]
  },
  {
   "cell_type": "code",
   "execution_count": 25,
   "metadata": {},
   "outputs": [
    {
     "name": "stdout",
     "output_type": "stream",
     "text": [
      "Query A: mimic-ii OR mimic-iii, 123results\n",
      "Query B: (mimic-ii OR mimic-iii) AND (database OR clinical OR waveform OR icu OR physionet), 120results\n",
      "(A - B):\n"
     ]
    },
    {
     "data": {
      "text/plain": [
       "{'Automated Diagnosis Coding with Combined Text Representations.',\n",
       " 'HIV fusion peptide penetrates, disorders, and softens T-cell membrane mimics.',\n",
       " 'Synthesis of a new antischistosomally active and toxicologically tolerant C-12 monothione surrogate of the universal antihelmintic praziquantel.'}"
      ]
     },
     "metadata": {},
     "output_type": "display_data"
    },
    {
     "name": "stdout",
     "output_type": "stream",
     "text": [
      "(B - A):\n"
     ]
    },
    {
     "data": {
      "text/plain": [
       "set()"
      ]
     },
     "metadata": {},
     "output_type": "display_data"
    },
    {
     "name": "stdout",
     "output_type": "stream",
     "text": [
      "\n",
      "\n",
      "Query A: (mimic-ii OR mimic-iii) AND (database OR clinical OR waveform OR icu OR physionet), 120results\n",
      "Query B: (mimic-ii OR mimic-iii) AND (database OR clinical OR waveform OR icu), 119results\n",
      "(A - B):\n"
     ]
    },
    {
     "data": {
      "text/plain": [
       "{'Photoplethysmography-Based Method for Automatic Detection of Premature Ventricular Contractions.'}"
      ]
     },
     "metadata": {},
     "output_type": "display_data"
    },
    {
     "name": "stdout",
     "output_type": "stream",
     "text": [
      "(B - A):\n"
     ]
    },
    {
     "data": {
      "text/plain": [
       "set()"
      ]
     },
     "metadata": {},
     "output_type": "display_data"
    },
    {
     "name": "stdout",
     "output_type": "stream",
     "text": [
      "\n",
      "\n",
      "Query A: (mimic-ii OR mimic-iii) AND (database OR clinical OR waveform OR icu), 119results\n",
      "Query B: (mimic-ii OR mimic-iii) AND (database OR clinical OR waveform), 116results\n",
      "(A - B):\n"
     ]
    },
    {
     "data": {
      "text/plain": [
       "{'An early respiratory distress detection method with Markov models.',\n",
       " 'Prediction using patient comparison vs. modeling: a case study for mortality prediction.',\n",
       " 'Wavelet based time series forecast with application to acute hypotensive episodes prediction.'}"
      ]
     },
     "metadata": {},
     "output_type": "display_data"
    },
    {
     "name": "stdout",
     "output_type": "stream",
     "text": [
      "(B - A):\n"
     ]
    },
    {
     "data": {
      "text/plain": [
       "set()"
      ]
     },
     "metadata": {},
     "output_type": "display_data"
    },
    {
     "name": "stdout",
     "output_type": "stream",
     "text": [
      "\n",
      "\n",
      "Query A: (mimic-ii OR mimic-iii) AND (database OR clinical OR waveform), 116results\n",
      "Query B: (mimic-ii OR mimic-iii) AND (database OR clinical), 116results\n",
      "(A - B):\n"
     ]
    },
    {
     "data": {
      "text/plain": [
       "set()"
      ]
     },
     "metadata": {},
     "output_type": "display_data"
    },
    {
     "name": "stdout",
     "output_type": "stream",
     "text": [
      "(B - A):\n"
     ]
    },
    {
     "data": {
      "text/plain": [
       "set()"
      ]
     },
     "metadata": {},
     "output_type": "display_data"
    },
    {
     "name": "stdout",
     "output_type": "stream",
     "text": [
      "\n",
      "\n",
      "Query A: (mimic-ii OR mimic-iii) AND (database OR clinical), 116results\n",
      "Query B: (mimic-ii OR mimic-iii) AND (database), 101results\n",
      "(A - B):\n"
     ]
    },
    {
     "data": {
      "text/plain": [
       "{'A Predictive Model for Medical Events Based on Contextual Embedding of Temporal Sequences.',\n",
       " 'A Study of Neural Word Embeddings for Named Entity Recognition in Clinical Text.',\n",
       " 'A computational approach to early sepsis detection.',\n",
       " 'A computational approach to mortality prediction of alcohol use disorder inpatients.',\n",
       " 'Assessing the Comorbidity Gap between Clinical Studies and Prevalence in Elderly Patient Populations.',\n",
       " 'Diagnosis code assignment: models and evaluation metrics.',\n",
       " 'False ventricular tachycardia alarm suppression in the ICU based on the discrete wavelet transform in the ECG signal.',\n",
       " 'Multi-label classification of chronically ill patients with bag of words and supervised dimensionality reduction algorithms.',\n",
       " 'Performance comparison of multi-label learning algorithms on clinical data for chronic diseases.',\n",
       " 'Prediction of Sepsis in the Intensive Care Unit With Minimal Electronic Health Record Data: A Machine Learning Approach.',\n",
       " 'Psychiatric symptom recognition without labeled data using distributional representations of phrases and on-line knowledge.',\n",
       " 'Robust estimation of respiratory rate via ECG- and PPG-derived respiratory quality indices.',\n",
       " 'Septic shock prediction for ICU patients via coupled HMM walking on sequential contrast patterns.',\n",
       " 'Using electronic health record collected clinical variables to predict medical intensive care unit mortality.',\n",
       " '[Acute hypotensive episodes prediction based on non-linear chaotic analysis].'}"
      ]
     },
     "metadata": {},
     "output_type": "display_data"
    },
    {
     "name": "stdout",
     "output_type": "stream",
     "text": [
      "(B - A):\n"
     ]
    },
    {
     "data": {
      "text/plain": [
       "set()"
      ]
     },
     "metadata": {},
     "output_type": "display_data"
    },
    {
     "name": "stdout",
     "output_type": "stream",
     "text": [
      "\n",
      "\n",
      "Query A: (mimic-ii OR mimic-iii) AND (database), 101results\n",
      "Query B: (mimic-ii OR mimic-iii) AND (clinical), 76results\n",
      "(A - B):\n"
     ]
    },
    {
     "data": {
      "text/plain": [
       "{'A data mining approach to reduce the false alarm rate of patient monitors.',\n",
       " 'A methodology for prediction of acute hypotensive episodes in ICU via a risk scoring model including analysis of ST-segment variations.',\n",
       " 'A physiological time series dynamics-based approach to patient monitoring and outcome prediction.',\n",
       " 'Adaptive online monitoring for ICU patients by combining just-in-time learning and principal component analysis.',\n",
       " 'Comparison between invasive and non-invasive blood pressure in young, middle and old age.',\n",
       " 'Discriminative and Distinct Phenotyping by Constrained Tensor Factorization.',\n",
       " 'Early warnings of heart rate deterioration.',\n",
       " 'Effect of Antipyretic Therapy on Mortality in Critically Ill Patients with Sepsis Receiving Mechanical Ventilation Treatment.',\n",
       " 'Efficient and sparse feature selection for biomedical text classification via the elastic net: Application to ICU risk stratification from nursing notes.',\n",
       " 'Evaluation of monitoring cardiac output by long time interval analysis of a radial arterial blood pressure waveform using the MIMIC II database.',\n",
       " 'External phenome analysis enables a rational federated query strategy to detect changing rates of treatment-related complications associated with multiple myeloma.',\n",
       " 'Hemodynamic-impact-based prioritization of ventricular tachycardia alarms.',\n",
       " 'Heuristics to determine ventilation times of ICU patients from the MIMIC-II database.',\n",
       " 'Hypotension as a Risk Factor for Acute Kidney Injury in ICU Patients.',\n",
       " 'Identifying Psychiatric Comorbidities for Obstructive Sleep Apnea in the Biomedical Literature and Electronic Health Record.',\n",
       " 'Is there opportunity for automated decision-support and closed-loop control in ICU patients receiving vasopressor infusion?',\n",
       " 'Large-scale physiological waveform retrieval via locality-sensitive hashing.',\n",
       " 'Lower mean corpuscular hemoglobin concentration is associated with poorer outcomes in intensive care unit admitted patients with acute myocardial infarction.',\n",
       " 'MIMIC-III, a freely accessible critical care database.',\n",
       " 'PRECISE:PRivacy-prEserving Cloud-assisted quality Improvement Service in hEalthcare.',\n",
       " 'Parallel processing of ECG and blood pressure waveforms for detection of acute hypotensive episodes: a simulation study using a risk scoring model.',\n",
       " 'Patient Prognosis from Vital Sign Time Series: Combining Convolutional Neural Networks with a Dynamical Systems Approach.',\n",
       " 'Predicting In-Hospital Mortality of ICU Patients: The PhysioNet/Computing in Cardiology Challenge 2012.',\n",
       " 'Predicting hyperlactatemia in the MIMIC II database.',\n",
       " 'Predicting postoperative acute respiratory failure in critical care using nursing notes and physiological signals.',\n",
       " 'Predicting respiratory instability in the ICU.',\n",
       " 'Prediction of acute hypotensive episodes by means of neural network multi-models.',\n",
       " 'Prediction of mortality from respiratory distress among long-term mechanically ventilated patients.',\n",
       " 'Primary study for detection of arterial blood pressure waveform components.',\n",
       " 'Quick chronic liver failure-sequential organ failure assessment: an easy-to-use scoring model for predicting mortality risk in critically ill cirrhosis patients.',\n",
       " 'Real-time prognosis of ICU physiological data streams.',\n",
       " 'Red blood cell distribution width and neutrophil to lymphocyte ratio are associated with outcomes of adult subarachnoid haemorrhage patients admitted to intensive care unit.',\n",
       " 'Reducing false arrhythmia alarm rates using robust heart rate estimation and cost-sensitive support vector machines.',\n",
       " 'Robust algorithm to locate heart beats from multiple physiological waveforms by individual signal detector voting.',\n",
       " 'Scoring model to predict outcome in critically ill cirrhotic patients with acute respiratory failure: comparison with MELD scoring models and CLIF-SOFA score.',\n",
       " 'Temporal phenome analysis of a large electronic health record cohort enables identification of hospital-acquired complications.',\n",
       " 'The Effect of Signal Quality on Six Cardiac Output Estimators.',\n",
       " 'Use of Electronic Health Record Data to Evaluate the Impact of Race on 30-Day Mortality in Patients Admitted to the Intensive Care Unit.',\n",
       " 'Using demographic and time series physiological features to classify sepsis in the intensive care unit.',\n",
       " '[Interference Detection and Signal Quality Assessment of Pulse Signals].'}"
      ]
     },
     "metadata": {},
     "output_type": "display_data"
    },
    {
     "name": "stdout",
     "output_type": "stream",
     "text": [
      "(B - A):\n"
     ]
    },
    {
     "data": {
      "text/plain": [
       "{'A Predictive Model for Medical Events Based on Contextual Embedding of Temporal Sequences.',\n",
       " 'A Study of Neural Word Embeddings for Named Entity Recognition in Clinical Text.',\n",
       " 'A computational approach to early sepsis detection.',\n",
       " 'A computational approach to mortality prediction of alcohol use disorder inpatients.',\n",
       " 'Assessing the Comorbidity Gap between Clinical Studies and Prevalence in Elderly Patient Populations.',\n",
       " 'Diagnosis code assignment: models and evaluation metrics.',\n",
       " 'False ventricular tachycardia alarm suppression in the ICU based on the discrete wavelet transform in the ECG signal.',\n",
       " 'Multi-label classification of chronically ill patients with bag of words and supervised dimensionality reduction algorithms.',\n",
       " 'Performance comparison of multi-label learning algorithms on clinical data for chronic diseases.',\n",
       " 'Prediction of Sepsis in the Intensive Care Unit With Minimal Electronic Health Record Data: A Machine Learning Approach.',\n",
       " 'Psychiatric symptom recognition without labeled data using distributional representations of phrases and on-line knowledge.',\n",
       " 'Robust estimation of respiratory rate via ECG- and PPG-derived respiratory quality indices.',\n",
       " 'Septic shock prediction for ICU patients via coupled HMM walking on sequential contrast patterns.',\n",
       " 'Using electronic health record collected clinical variables to predict medical intensive care unit mortality.',\n",
       " '[Acute hypotensive episodes prediction based on non-linear chaotic analysis].'}"
      ]
     },
     "metadata": {},
     "output_type": "display_data"
    },
    {
     "name": "stdout",
     "output_type": "stream",
     "text": [
      "\n",
      "\n"
     ]
    },
    {
     "ename": "IndexError",
     "evalue": "list index out of range",
     "output_type": "error",
     "traceback": [
      "\u001b[0;31m---------------------------------------------------------------------------\u001b[0m",
      "\u001b[0;31mIndexError\u001b[0m                                Traceback (most recent call last)",
      "\u001b[0;32m<ipython-input-25-04e1a524485d>\u001b[0m in \u001b[0;36m<module>\u001b[0;34m()\u001b[0m\n\u001b[1;32m      1\u001b[0m \u001b[0;32mfor\u001b[0m \u001b[0mi\u001b[0m \u001b[0;32min\u001b[0m \u001b[0mrange\u001b[0m\u001b[0;34m(\u001b[0m\u001b[0;36m7\u001b[0m\u001b[0;34m)\u001b[0m\u001b[0;34m:\u001b[0m\u001b[0;34m\u001b[0m\u001b[0m\n\u001b[0;32m----> 2\u001b[0;31m     \u001b[0mshowdiff\u001b[0m\u001b[0;34m(\u001b[0m\u001b[0msearch_results\u001b[0m\u001b[0;34m[\u001b[0m\u001b[0msearch_strings\u001b[0m\u001b[0;34m[\u001b[0m\u001b[0mi\u001b[0m\u001b[0;34m]\u001b[0m\u001b[0;34m]\u001b[0m\u001b[0;34m,\u001b[0m \u001b[0msearch_results\u001b[0m\u001b[0;34m[\u001b[0m\u001b[0msearch_strings\u001b[0m\u001b[0;34m[\u001b[0m\u001b[0mi\u001b[0m\u001b[0;34m+\u001b[0m\u001b[0;36m1\u001b[0m\u001b[0;34m]\u001b[0m\u001b[0;34m]\u001b[0m\u001b[0;34m)\u001b[0m\u001b[0;34m\u001b[0m\u001b[0m\n\u001b[0m\u001b[1;32m      3\u001b[0m \u001b[0;34m\u001b[0m\u001b[0m\n",
      "\u001b[0;31mIndexError\u001b[0m: list index out of range"
     ]
    }
   ],
   "source": [
    "for i in range(7):\n",
    "    showdiff(search_results[search_strings[i]], search_results[search_strings[i+1]])\n",
    "    "
   ]
  },
  {
   "cell_type": "markdown",
   "metadata": {},
   "source": [
    "### Conclusion\n",
    "\n",
    "Only the most general query results in any number of false positives. \n",
    "\n",
    "Between the most and second most general queries, the false positives are:\n",
    "- 'HIV fusion peptide penetrates, disorders, and softens T-cell membrane mimics.' https://www.ncbi.nlm.nih.gov/pubmed/20655315\n",
    "- 'Synthesis of a new antischistosomally active and toxicologically tolerant C-12 monothione surrogate of the universal antihelmintic praziquantel.' https://www.ncbi.nlm.nih.gov/pubmed/12403307\n",
    "\n",
    "The false negatives (missed results) are:\n",
    "- 'Automated Diagnosis Coding with Combined Text Representations.' https://www.ncbi.nlm.nih.gov/pubmed/28423783\n",
    "\n"
   ]
  },
  {
   "cell_type": "markdown",
   "metadata": {},
   "source": [
    "## 1.2 Searching Google Scholar\n",
    "\n",
    "Query: `(\"mimic ii\" OR \"mimic iii\") AND (\"database\" OR \"clinical\" OR \"waveform\" OR ICU)`\n",
    "\n",
    "https://scholar.google.com/scholar?q=%28%22mimic+ii%22+OR+%22mimic+iii%22%29+AND+%28%22database%22+OR+%22clinical%22%29&btnG=&hl=en&as_sdt=1%2C22&as_vis=1\n",
    "\n",
    "https://scholar.google.com/scholar/help.html"
   ]
  },
  {
   "cell_type": "code",
   "execution_count": null,
   "metadata": {
    "collapsed": true
   },
   "outputs": [],
   "source": [
    "#import scholarly"
   ]
  },
  {
   "cell_type": "code",
   "execution_count": null,
   "metadata": {},
   "outputs": [],
   "source": [
    "print(next(scholarly.search_author('Steven A. Cholewiak')))"
   ]
  },
  {
   "cell_type": "code",
   "execution_count": null,
   "metadata": {
    "collapsed": true
   },
   "outputs": [],
   "source": []
  }
 ],
 "metadata": {
  "kernelspec": {
   "display_name": "Python 2",
   "language": "python",
   "name": "python2"
  },
  "language_info": {
   "codemirror_mode": {
    "name": "ipython",
    "version": 2
   },
   "file_extension": ".py",
   "mimetype": "text/x-python",
   "name": "python",
   "nbconvert_exporter": "python",
   "pygments_lexer": "ipython2",
   "version": "2.7.12"
  }
 },
 "nbformat": 4,
 "nbformat_minor": 2
}
