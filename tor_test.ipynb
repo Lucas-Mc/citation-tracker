{
 "cells": [
  {
   "cell_type": "code",
   "execution_count": 2,
   "metadata": {},
   "outputs": [],
   "source": [
    "import getpass\n",
    "import sys\n",
    "#import urllib.request as ur\n",
    "import io\n",
    "import pycurl\n",
    "\n",
    "import stem\n",
    "import stem.connection\n",
    "import stem.process\n",
    "from stem.control import Controller\n",
    "from stem.util import term\n",
    "\n",
    "ip_echo_url = 'http://ipecho.net/plain'\n",
    "js_test_url = 'http://127.0.0.1:81/test-js.html'"
   ]
  },
  {
   "cell_type": "code",
   "execution_count": null,
   "metadata": {
    "collapsed": true
   },
   "outputs": [],
   "source": [
    "controller = Controller.from_port(port=9051)\n",
    "pw = getpass.getpass(\"Controller password: \")\n",
    "controller.authenticate(password=pw)\n",
    "controller.close()"
   ]
  },
  {
   "cell_type": "code",
   "execution_count": null,
   "metadata": {},
   "outputs": [
    {
     "name": "stdout",
     "output_type": "stream",
     "text": [
      "\u001b[1mStarting Tor:\n",
      "\u001b[0m\n",
      "\u001b[34mSep 14 16:43:30.000 [notice] Bootstrapped 0%: Starting\u001b[0m\n",
      "\u001b[34mSep 14 16:43:30.000 [notice] Bootstrapped 5%: Connecting to directory server\u001b[0m\n",
      "\u001b[34mSep 14 16:43:30.000 [notice] Bootstrapped 80%: Connecting to the Tor network\u001b[0m\n",
      "\u001b[34mSep 14 16:43:31.000 [notice] Bootstrapped 85%: Finishing handshake with first hop\u001b[0m\n"
     ]
    }
   ],
   "source": [
    "SOCKS_PORT = 7000\n",
    "\n",
    "def query(url):\n",
    "  \"\"\"\n",
    "  Uses pycurl to fetch a site using the proxy on the SOCKS_PORT.\n",
    "  \"\"\"\n",
    "\n",
    "  output = io.BytesIO()\n",
    "\n",
    "  query = pycurl.Curl()\n",
    "  query.setopt(pycurl.URL, url)\n",
    "  query.setopt(pycurl.PROXY, 'localhost')\n",
    "  query.setopt(pycurl.PROXYPORT, SOCKS_PORT)\n",
    "  query.setopt(pycurl.PROXYTYPE, pycurl.PROXYTYPE_SOCKS5_HOSTNAME)\n",
    "  query.setopt(pycurl.WRITEFUNCTION, output.write)\n",
    "\n",
    "  try:\n",
    "    query.perform()\n",
    "    return output.getvalue()\n",
    "  except pycurl.error as exc:\n",
    "    return \"Unable to reach %s (%s)\" % (url, exc)\n",
    "\n",
    "\n",
    "# Start an instance of Tor configured to only exit through Russia. This prints\n",
    "# Tor's bootstrap information as it starts. Note that this likely will not\n",
    "# work if you have another Tor instance running.\n",
    "\n",
    "def print_bootstrap_lines(line):\n",
    "  if \"Bootstrapped \" in line:\n",
    "    print(term.format(line, term.Color.BLUE))\n",
    "\n",
    "\n",
    "print(term.format(\"Starting Tor:\\n\", term.Attr.BOLD))\n",
    "\n",
    "tor_process = stem.process.launch_tor_with_config(\n",
    "  config = {\n",
    "    'SocksPort': str(SOCKS_PORT),\n",
    "    #'ExitNodes': '{de}',\n",
    "  },\n",
    "  init_msg_handler = print_bootstrap_lines,\n",
    ")\n",
    "\n",
    "print(term.format(\"\\nChecking our endpoint:\\n\", term.Attr.BOLD))\n",
    "print(term.format(query(\"https://www.atagar.com/echo.php\"), term.Color.BLUE))\n",
    "\n",
    "tor_process.kill()  # stops tor"
   ]
  },
  {
   "cell_type": "code",
   "execution_count": null,
   "metadata": {
    "collapsed": true
   },
   "outputs": [],
   "source": [
    "SOCKS_PORT = 7000\n",
    "\n",
    "tor_process = stem.process.launch_tor_with_config(\n",
    "  config = {\n",
    "    'SocksPort': str(SOCKS_PORT),\n",
    "    'ExitNodes': '{ru}',\n",
    "  }\n",
    ")\n",
    "\n",
    "print('ok...')\n",
    "\n",
    "tor_process.kill()\n"
   ]
  },
  {
   "cell_type": "code",
   "execution_count": null,
   "metadata": {
    "collapsed": true
   },
   "outputs": [],
   "source": [
    "\n",
    "response = ur.urlopen(ip_echo_url)\n",
    "#response = ur.urlopen(js_test_url)\n",
    "\n",
    "html = response.readlines()\n",
    "print(html)"
   ]
  },
  {
   "cell_type": "code",
   "execution_count": null,
   "metadata": {
    "collapsed": true
   },
   "outputs": [],
   "source": []
  }
 ],
 "metadata": {
  "kernelspec": {
   "display_name": "Python 2",
   "language": "python",
   "name": "python2"
  },
  "language_info": {
   "codemirror_mode": {
    "name": "ipython",
    "version": 2
   },
   "file_extension": ".py",
   "mimetype": "text/x-python",
   "name": "python",
   "nbconvert_exporter": "python",
   "pygments_lexer": "ipython2",
   "version": "2.7.12"
  }
 },
 "nbformat": 4,
 "nbformat_minor": 2
}
