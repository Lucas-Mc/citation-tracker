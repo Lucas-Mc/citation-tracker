{
 "cells": [
  {
   "cell_type": "code",
   "execution_count": null,
   "metadata": {
    "collapsed": true
   },
   "outputs": [],
   "source": [
    "from selenium import webdriver\n",
    "from selenium.webdriver.common.keys import Keys\n",
    "import re"
   ]
  },
  {
   "cell_type": "markdown",
   "metadata": {},
   "source": [
    "## Example URLs\n",
    "\n",
    "\n",
    "- '(mimic-ii OR mimic-iii) AND (database OR clinical)' for 2017:\n",
    "https://scholar.google.com/scholar?q=(mimic-ii+OR+mimic-iii)+AND+(database+OR+clinical)&hl=en&as_sdt=1%2C22&as_vis=1&as_ylo=2017&as_yhi=2017\n",
    "\n",
    "\n",
    "\n",
    "\n",
    "- 2017-2017: https://scholar.google.com/scholar?q=%28mimic-ii+OR+mimic-iii%29&hl=en&as_sdt=1%2C22&as_vis=1&as_ylo=2017&as_yhi=2017\n",
    "- 2017-2017 Page 2: https://scholar.google.com/scholar?start=20&q=(mimic-ii+OR+mimic-iii)&hl=en&as_sdt=1,22&as_ylo=2017&as_yhi=2017&as_vis=1\n",
    "- Page 3: https://scholar.google.com/scholar?start=40&q=(mimic-ii+OR+mimic-iii)&hl=en&as_sdt=1,22&as_ylo=2017&as_yhi=2017&as_vis=1\n",
    "\n",
    "- Until 2010: https://scholar.google.com/scholar?q=%28mimic-ii+OR+mimic-iii%29&hl=en&as_sdt=1%2C22&as_vis=1&as_ylo=&as_yhi=2010\n",
    "\n"
   ]
  },
  {
   "cell_type": "code",
   "execution_count": null,
   "metadata": {
    "collapsed": true
   },
   "outputs": [],
   "source": [
    "https://scholar.google.com/scholar?q=%(mimic-ii+OR+mimic-iii)+AND+(database+OR+clinical)&hl=en&as_sdt=1%2C22&as_vis=1&as_ylo=2017&as_yhi=2017"
   ]
  },
  {
   "cell_type": "code",
   "execution_count": null,
   "metadata": {
    "collapsed": true
   },
   "outputs": [],
   "source": [
    "# Demo script\n",
    "\n",
    "driver = webdriver.Chrome()\n",
    "driver.get(\"http://www.python.org\")\n",
    "assert \"Python\" in driver.title\n",
    "elem = driver.find_element_by_name(\"q\")\n",
    "elem.clear()\n",
    "elem.send_keys(\"pycon\")\n",
    "elem.send_keys(Keys.RETURN)\n",
    "assert \"No results found.\" not in driver.page_source\n",
    "driver.close()"
   ]
  },
  {
   "cell_type": "code",
   "execution_count": null,
   "metadata": {},
   "outputs": [],
   "source": [
    "from selenium import webdriver\n",
    "from selenium.webdriver.common.keys import Keys\n",
    "import re\n",
    "import time\n",
    "#Utility\n",
    "\n",
    "search_strings = [\n",
    "    'mimic-ii OR mimic-iii',\n",
    "    '(mimic-ii OR mimic-iii) AND (database OR clinical OR waveform OR icu OR physionet)',\n",
    "    '(mimic-ii OR mimic-iii) AND (database OR clinical OR waveform OR icu)',\n",
    "    '(mimic-ii OR mimic-iii) AND (database OR clinical OR waveform)',\n",
    "    '(mimic-ii OR mimic-iii) AND (database OR clinical)',\n",
    "    '(mimic-ii OR mimic-iii) AND (database)',\n",
    "    '(mimic-ii OR mimic-iii) AND (clinical)',\n",
    "]\n",
    "\n",
    "\n",
    "def make_search_url(search_string, years=[2003, 2017]):\n",
    "    \"\"\"\n",
    "    - years - int or list of 2 ints for range.\n",
    "    \"\"\"\n",
    "    if isinstance(years, int):\n",
    "        years = [years, years]\n",
    "    if len(years) == 1:\n",
    "        years = years + years\n",
    "    \n",
    "    # For the first search of the page, for one year\n",
    "    base_url_template = [\"https://scholar.google.com/scholar?q=%28\", # search term here\n",
    "                         \"%29&hl=en&as_sdt=1%2C22&as_vis=1&as_ylo=\", # start year here\n",
    "                         \"&as_yhi=\", # end year here\n",
    "                        ]\n",
    "\n",
    "    query_url = base_url_template[0]+re.sub(' ', '+', search_string)+base_url_template[1]\n",
    "    \n",
    "    return query_url\n",
    "\n",
    "\n",
    "class SearchResult(object):\n",
    "    \"\"\"\n",
    "    All results for one search string, for all years\n",
    "    \"\"\"\n",
    "    def __init__(self, search_string=None, paper_titles=None, count=None):\n",
    "        self.search_string = search_string\n",
    "        self.paper_titles = paper_titles\n",
    "        self.count = count\n",
    "        \n",
    "scholar_url = make_search_url(search_strings[0])\n",
    "test_js_url = 'http://127.0.0.1:81/test-js.html'\n",
    "echo_ip_url = 'https://www.atagar.com/echo.php'\n",
    "pn_url = 'https://physionet.org'"
   ]
  },
  {
   "cell_type": "code",
   "execution_count": null,
   "metadata": {},
   "outputs": [],
   "source": [
    "from selenium import webdriver\n",
    "from selenium.webdriver.common.keys import Keys\n",
    "import re\n",
    "\n",
    "\n",
    "\n",
    "#profile = webdriver.FirefoxProfile()\n",
    "#profile.set_preference(\"general.useragent.override\", \"Mozilla/5.0 (X11; Ubuntu; Linux x86_64; rv:55.0) Gecko/20100101 Firefox/55.0\")\n",
    "#driver=webdriver.Firefox(profile)\n",
    "\n",
    "driver = webdriver.Firefox()\n",
    "#driver = webdriver.Chrome()\n",
    "\n",
    "\n",
    "\n"
   ]
  },
  {
   "cell_type": "code",
   "execution_count": null,
   "metadata": {},
   "outputs": [],
   "source": [
    "driver.get(test_js_url)"
   ]
  },
  {
   "cell_type": "code",
   "execution_count": null,
   "metadata": {},
   "outputs": [],
   "source": [
    "driver.get(scholar_url)"
   ]
  },
  {
   "cell_type": "code",
   "execution_count": null,
   "metadata": {
    "collapsed": true
   },
   "outputs": [],
   "source": [
    "driver.get(echo_ip_url)"
   ]
  },
  {
   "cell_type": "code",
   "execution_count": null,
   "metadata": {
    "collapsed": true
   },
   "outputs": [],
   "source": []
  }
 ],
 "metadata": {
  "kernelspec": {
   "display_name": "Python 3",
   "language": "python",
   "name": "python3"
  },
  "language_info": {
   "codemirror_mode": {
    "name": "ipython",
    "version": 3
   },
   "file_extension": ".py",
   "mimetype": "text/x-python",
   "name": "python",
   "nbconvert_exporter": "python",
   "pygments_lexer": "ipython3",
   "version": "3.5.2"
  }
 },
 "nbformat": 4,
 "nbformat_minor": 2
}
